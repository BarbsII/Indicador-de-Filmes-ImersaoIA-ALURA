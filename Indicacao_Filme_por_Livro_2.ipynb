{
  "nbformat": 4,
  "nbformat_minor": 0,
  "metadata": {
    "colab": {
      "provenance": [],
      "authorship_tag": "ABX9TyOtgkQsOkl9fP96i+TbQONx",
      "include_colab_link": true
    },
    "kernelspec": {
      "name": "python3",
      "display_name": "Python 3"
    },
    "language_info": {
      "name": "python"
    }
  },
  "cells": [
    {
      "cell_type": "markdown",
      "metadata": {
        "id": "view-in-github",
        "colab_type": "text"
      },
      "source": [
        "<a href=\"https://colab.research.google.com/github/BarbsII/Indicador-de-Filmes-ImersaoIA-ALURA/blob/main/Indicacao_Filme_por_Livro_2.ipynb\" target=\"_parent\"><img src=\"https://colab.research.google.com/assets/colab-badge.svg\" alt=\"Open In Colab\"/></a>"
      ]
    },
    {
      "cell_type": "markdown",
      "source": [
        "Instalando o SDK do Google"
      ],
      "metadata": {
        "id": "7Lt5kn5MGVvU"
      }
    },
    {
      "cell_type": "code",
      "execution_count": 38,
      "metadata": {
        "id": "DOiI6DLKCagM"
      },
      "outputs": [],
      "source": [
        "!pip install -q -U google-generativeai"
      ]
    },
    {
      "cell_type": "code",
      "source": [
        "import google.generativeai as genai\n",
        "from google.colab import userdata\n",
        "api_key = userdata.get(\"SECRET_KEY\")\n",
        "\n",
        "genai.configure(api_key=api_key)\n",
        "\n",
        "# Ctrl + Enter: Executa o código\n",
        "# Shift + Enter: Executa o código e cria bloco abaixo"
      ],
      "metadata": {
        "id": "bUEk08KfGi_v"
      },
      "execution_count": 39,
      "outputs": []
    },
    {
      "cell_type": "markdown",
      "source": [
        "Listar os modelos disponíveis"
      ],
      "metadata": {
        "id": "LQknndWlG1Re"
      }
    },
    {
      "cell_type": "code",
      "source": [
        "for m in genai.list_models():\n",
        "  if 'generateContent' in m.supported_generation_methods:\n",
        "    print(m.name)"
      ],
      "metadata": {
        "colab": {
          "base_uri": "https://localhost:8080/",
          "height": 138
        },
        "id": "TFIFWodkGyw8",
        "outputId": "09ad111a-e45f-4d22-c040-da26d75f9016"
      },
      "execution_count": 40,
      "outputs": [
        {
          "output_type": "stream",
          "name": "stdout",
          "text": [
            "models/gemini-1.0-pro\n",
            "models/gemini-1.0-pro-001\n",
            "models/gemini-1.0-pro-latest\n",
            "models/gemini-1.0-pro-vision-latest\n",
            "models/gemini-1.5-pro-latest\n",
            "models/gemini-pro\n",
            "models/gemini-pro-vision\n"
          ]
        }
      ]
    },
    {
      "cell_type": "markdown",
      "source": [
        "Definindo configurações do modelo"
      ],
      "metadata": {
        "id": "-wniXGTqJeYu"
      }
    },
    {
      "cell_type": "code",
      "source": [
        "generation_config = {\n",
        "    \"candidate_count\": 1, # Qtd de Respostas\n",
        "    \"temperature\": 0.5, # Aleatoriedade de Respostas\n",
        "}"
      ],
      "metadata": {
        "id": "N8CWOie_ITWH"
      },
      "execution_count": 41,
      "outputs": []
    },
    {
      "cell_type": "markdown",
      "source": [
        "Configurações de Segurança"
      ],
      "metadata": {
        "id": "Qy2tUVF5JhhG"
      }
    },
    {
      "cell_type": "code",
      "source": [
        "safety_settings = {\n",
        "    \"HARASSMENT\": \"BLOCK_NONE\",\n",
        "    \"HATE\": \"BLOCK_NONE\",\n",
        "    \"SEXUAL\": \"BLOCK_NONE\",\n",
        "    \"DANGEROUS\": \"BLOCK_NONE\",\n",
        "}"
      ],
      "metadata": {
        "id": "ZUiviFgFI3_i"
      },
      "execution_count": 42,
      "outputs": []
    },
    {
      "cell_type": "markdown",
      "source": [
        "Inicializando o modelo"
      ],
      "metadata": {
        "id": "bA77LJaTJmZ3"
      }
    },
    {
      "cell_type": "code",
      "source": [
        "model = genai.GenerativeModel(model_name=\"gemini-1.0-pro\",\n",
        "                              generation_config=generation_config,\n",
        "                              safety_settings=safety_settings)"
      ],
      "metadata": {
        "id": "28I38byyJo6S"
      },
      "execution_count": 43,
      "outputs": []
    },
    {
      "cell_type": "markdown",
      "source": [
        "Criando um **Chatbot**"
      ],
      "metadata": {
        "id": "EQxQFd2nLl-G"
      }
    },
    {
      "cell_type": "code",
      "source": [
        "chat = model.start_chat(history=[])\n",
        "# history: inicializa um histórico para o chat"
      ],
      "metadata": {
        "id": "wXibDacHLqNN"
      },
      "execution_count": 44,
      "outputs": []
    },
    {
      "cell_type": "markdown",
      "source": [
        "Pegando histórico de outro código *(Indicacao_filme_por_livro)* para atualizar este e utilizando o **chatbot**"
      ],
      "metadata": {
        "id": "qFdpO9NnZOEJ"
      }
    },
    {
      "cell_type": "code",
      "source": [
        "# prompt_parts de FEW_SHOT LEARNING antigo\n",
        "prompt_parts = [\n",
        "  \"input: Eu leio Percy Jackson e Harry Potter\",\n",
        "  \"output: Você gosta de ler Fantasia e Aventura! \\nUm filme que você talvez goste é: \\n-As Crônicas de Nárnia (2005)\\n- IMDb: 6,9/10\\n- https://www.imdb.com/title/tt0363771/\",\n",
        "  \"input: Eu leio Jogos Vorazes e Divergente\",\n",
        "  \"output: Você gosta de ler sobre Ficção Científica Distópica, Ação e Suspense!\\nUm filme que você talvez goste é: \\n- Maze Runner: Correr ou Morrer (2014)\\n- IMDb: 6,8/10\\n- https://www.imdb.com/title/tt1790864/?ref_=nv_sr_srsg_0_tt_8_nm_0_q_maze%2520ru\",\n",
        "  \"input: Eu leio Corte de Espinhos e Rosas e Trono de Vidro\",\n",
        "  \"output: Você gosta de ler Fantasia Adulta, Romance, Aventura e Drama!\\nUm filme que você talvez goste é:\\n- Stardust - O Mistério da Estrela (2007)\\n- IMDb: 7,6/10\\n- https://www.imdb.com/title/tt0486655/\",\n",
        "]\n",
        "new_prompt = input(\"Esperando Prompt: \")\n",
        "\n",
        "while new_prompt != \"fim\":\n",
        "  # Enviando o prompt para o chat, somando o new_prompt para que ele seja parte do prompt antigo (prompt_parts)\n",
        "  response = chat.send_message(prompt_parts + [\"input: {0}\".format(new_prompt), \"output: \"])\n",
        "  print(\"Resposta: \", response.text, \"\\n\")\n",
        "  new_prompt = input(\"Esperando Prompt: \")"
      ],
      "metadata": {
        "colab": {
          "base_uri": "https://localhost:8080/",
          "height": 156
        },
        "id": "Ze3voX6yMAr4",
        "outputId": "c054f26d-d4c2-479c-9406-71d78fe91b42"
      },
      "execution_count": 45,
      "outputs": [
        {
          "name": "stdout",
          "output_type": "stream",
          "text": [
            "Esperando Prompt: eu leio a fuga das galinhas\n",
            "Resposta:  Você gosta de ler Animação, Comédia e Aventura!\n",
            "Um filme que você talvez goste é:\n",
            "- Madagascar (2005)\n",
            "-- IMDb: 7,0/10\n",
            "-- https://www.imdb.com/title/tt0448118/?ref_=nv_sr_srsg_0_tt_14_nm_0_q_madagascar%2520the%2520movi \n",
            "\n",
            "Esperando Prompt: fim\n"
          ]
        }
      ]
    },
    {
      "cell_type": "markdown",
      "source": [
        "*Código da Aula 4:*"
      ],
      "metadata": {
        "id": "Ex36bi-NhHA_"
      }
    },
    {
      "cell_type": "code",
      "source": [
        "#Melhorando a visualização\n",
        "#Código disponível em https://ai.google.dev/tutorials/python_quickstart#import_packages\n",
        "import textwrap\n",
        "from IPython.display import display\n",
        "from IPython.display import Markdown\n",
        "\n",
        "def to_markdown(text):\n",
        "  text = text.replace('•', '  *')\n",
        "  return Markdown(textwrap.indent(text, '> ', predicate=lambda _: True))\n",
        "\n",
        "#Imprimindo o histórico\n",
        "for message in chat.history:\n",
        "  display(to_markdown(f'**{message.role}**: {message.parts[0].text}'))\n",
        "  print('-------------------------------------------')"
      ],
      "metadata": {
        "colab": {
          "base_uri": "https://localhost:8080/",
          "height": 212
        },
        "id": "z8bhU2s8Oc9y",
        "outputId": "67c4dc09-2338-471f-80c2-864d2ca18ecd"
      },
      "execution_count": 48,
      "outputs": [
        {
          "output_type": "display_data",
          "data": {
            "text/plain": [
              "<IPython.core.display.Markdown object>"
            ],
            "text/markdown": "> **user**: input: Eu leio Percy Jackson e Harry Potter"
          },
          "metadata": {}
        },
        {
          "output_type": "stream",
          "name": "stdout",
          "text": [
            "-------------------------------------------\n"
          ]
        },
        {
          "output_type": "display_data",
          "data": {
            "text/plain": [
              "<IPython.core.display.Markdown object>"
            ],
            "text/markdown": "> **model**: Você gosta de ler Animação, Comédia e Aventura!\n> Um filme que você talvez goste é:\n> - Madagascar (2005)\n> -- IMDb: 7,0/10\n> -- https://www.imdb.com/title/tt0448118/?ref_=nv_sr_srsg_0_tt_14_nm_0_q_madagascar%2520the%2520movi"
          },
          "metadata": {}
        },
        {
          "output_type": "stream",
          "name": "stdout",
          "text": [
            "-------------------------------------------\n"
          ]
        }
      ]
    }
  ]
}
